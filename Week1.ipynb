{
  "nbformat": 4,
  "nbformat_minor": 0,
  "metadata": {
    "colab": {
      "name": "Week1.ipynb",
      "provenance": [],
      "collapsed_sections": []
    },
    "kernelspec": {
      "name": "python3",
      "display_name": "Python 3"
    },
    "language_info": {
      "name": "python"
    }
  },
  "cells": [
    {
      "cell_type": "markdown",
      "metadata": {
        "id": "BuwKFvYS2IPd"
      },
      "source": [
        "# **Welcome to Week One of BrainTank Deep Learning**\n",
        "\n",
        "\n"
      ]
    },
    {
      "cell_type": "markdown",
      "metadata": {
        "id": "QCFtUVMQ3e0c"
      },
      "source": [
        "Lets get started:\n",
        "\n",
        "---\n",
        "\n",
        "First thing we are going to do is run this piece of code that will download important files for this weeks challenge. Take a look at:\n",
        "\n",
        "\n",
        "1.   cow_cost.csv\n",
        "2.   pytorch_help.txt\n",
        "\n"
      ]
    },
    {
      "cell_type": "code",
      "metadata": {
        "colab": {
          "base_uri": "https://localhost:8080/"
        },
        "id": "YXhI70F02CYS",
        "outputId": "e412bd3f-03f5-49a6-c6b9-95aeeb8fd58f"
      },
      "source": [
        "!git clone https://github.com/BrainTankDeepLearning/Week1.git"
      ],
      "execution_count": null,
      "outputs": [
        {
          "output_type": "stream",
          "name": "stdout",
          "text": [
            "fatal: destination path 'Week1' already exists and is not an empty directory.\n"
          ]
        }
      ]
    },
    {
      "cell_type": "markdown",
      "metadata": {
        "id": "Ccx51RkT4bpI"
      },
      "source": [
        "Helper Functions:\n",
        "---\n",
        "Here I have provided two helper functions that will help us use and view some of the data we working with. You DO NOT need to edit any of these, but feel free to play around with them.\n"
      ]
    },
    {
      "cell_type": "code",
      "metadata": {
        "id": "fH4-VD3r3eFW"
      },
      "source": [
        "import torch\n",
        "from torch.nn import Module\n",
        "import numpy as np\n",
        "import csv\n",
        "import matplotlib.pyplot as plt\n",
        "import os\n",
        "\n",
        "def display_data(data, m, b, index : int = None):\n",
        "    # Creates a graph with all input data and the line defined\n",
        "    # by your model\n",
        "    # input: (x, y) matrix of data\n",
        "    # m: slope component of regression\n",
        "    # b: vertical translation component of regression\n",
        "    if torch.is_tensor(m):\n",
        "        m = m.item()\n",
        "    if torch.is_tensor(b):\n",
        "        b = b.item()\n",
        "\n",
        "    fig = plt.figure()\n",
        "\n",
        "    weights = data[:, 0]\n",
        "    costs = data[:, 1]\n",
        "\n",
        "    plt.scatter(weights, costs)\n",
        "\n",
        "    plt.xlabel('Cow Weight (lbs)', fontsize=12)\n",
        "    plt.ylabel('Cow Cost (CAD)', fontsize=12)\n",
        "\n",
        "    x = np.linspace(800, 1300, 1000)\n",
        "    \n",
        "    if m is not None and b is not None:\n",
        "        plt.plot(x, m * x + b, color = \"red\")\n",
        "\n",
        "    plt.xlim([800, 1300])\n",
        "\n",
        "    if not os.path.isdir(\"Graphs\"):\n",
        "        os.mkdir(\"Graphs\")\n",
        "\n",
        "    if index is None:\n",
        "        plt.title(\"My Model's Prediction of Cow Cost on Cow Weight\")\n",
        "        plt.savefig(\"Graphs/Cow_Prediction.png\")\n",
        "    else:\n",
        "        plt.title(f\"My Model's Prediction of Cow Cost on Cow Weight at Index {index}\")\n",
        "        plt.savefig(f\"Graphs/Cow_Prediction_at_Index_{index}.png\")\n",
        "\n",
        "def read_data(path):\n",
        "    # Reads cow path csv file and returns numpy 2d array of\n",
        "    # x and y pairs\n",
        "    # path: (string) path to csv file \"cow_cost.csv\"\n",
        "    data = list()\n",
        "    with open(path, \"r\") as file:\n",
        "        reader = csv.reader(file)\n",
        "        for row in reader:\n",
        "            if row == [\"Weight\", \"Cost\"]:\n",
        "                continue\n",
        "            row = [int(row[0]), int(row[1])]\n",
        "            data.append(row)\n",
        "    return np.array(data)"
      ],
      "execution_count": null,
      "outputs": []
    },
    {
      "cell_type": "markdown",
      "metadata": {
        "id": "omOesw4DE7vA"
      },
      "source": [
        "# Cow Weights We Want to Solve For\n",
        "The University of Guelph is looking to buy a small, medium, and large cow with weights of 900 lbs, 1050 lbs, and 1200 pounds. Can we use deep learning to find a resonable price the University would be willing to pay for these cows?"
      ]
    },
    {
      "cell_type": "code",
      "metadata": {
        "id": "G8oGze5i4r8S"
      },
      "source": [
        "small_cow = 900.0\n",
        "medium_cow = 1050.0\n",
        "large_cow = 1200.0"
      ],
      "execution_count": 2,
      "outputs": []
    },
    {
      "cell_type": "markdown",
      "metadata": {
        "id": "NROQvygA5H1f"
      },
      "source": [
        "Let's Build a Machine Learning Model\n",
        "\n",
        "---\n",
        "\n",
        "Model:"
      ]
    },
    {
      "cell_type": "code",
      "metadata": {
        "id": "LDNU0VGM5XTT"
      },
      "source": [
        "import torch\n",
        "import numpy as np\n",
        "import csv\n",
        "import matplotlib.pyplot as plt\n",
        "import os\n",
        "\n",
        "# Machine Learning Model:\n",
        "# This is the model that we are defining.\n",
        "# It will contain parameters that we want to train and\n",
        "# will define how the equation that the data \n",
        "class CowPredictor(torch.nn.Module):\n",
        "    def __init__(self):\n",
        "        # The __init__(self) function is where we define parameters for the\n",
        "        # model. super(Model, self).__init__() helps set up this initialization.\n",
        "        #\n",
        "        # Example:\n",
        "        # self.x = torch.nn.Parameter(torch.tensor(1.0, requires_grad = True))\n",
        "        # this defines x to be value 1.0\n",
        "        #\n",
        "        # This declares a variable \"x\" that can now be used by the model.\n",
        "\n",
        "        super(CowPredictor, self).__init__()\n",
        "\n",
        "        # Your code here:\n",
        "        pass\n",
        "\n",
        "    def forward(self, cow_weight):\n",
        "        # __forward__(self, cow_weight) defines the equation you want your\n",
        "        # data to run through.\n",
        "        # Here, cow_weight is the input for your model.\n",
        "        #\n",
        "        # Example:\n",
        "        # result = cow_weight * self.x - 10\n",
        "        # return result\n",
        "        #\n",
        "        # This example takes an input, multiplies it by variable \"x\" defined\n",
        "        # in __init__(), subtracts 10 and returns the result.\n",
        "        \n",
        "        # Your code here:\n",
        "        pass"
      ],
      "execution_count": 7,
      "outputs": []
    }
  ]
}